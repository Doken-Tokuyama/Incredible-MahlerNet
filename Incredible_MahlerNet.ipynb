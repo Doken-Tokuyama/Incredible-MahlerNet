{
  "nbformat": 4,
  "nbformat_minor": 0,
  "metadata": {
    "colab": {
      "name": "Incredible-MahlerNet.ipynb",
      "provenance": [],
      "collapsed_sections": [],
      "machine_shape": "hm",
      "authorship_tag": "ABX9TyMHWBmr0ICY6XJhYnsdmCD5",
      "include_colab_link": true
    },
    "kernelspec": {
      "name": "python3",
      "display_name": "Python 3"
    },
    "accelerator": "TPU"
  },
  "cells": [
    {
      "cell_type": "markdown",
      "metadata": {
        "id": "view-in-github",
        "colab_type": "text"
      },
      "source": [
        "<a href=\"https://colab.research.google.com/github/asigalov61/Incredible-MahlerNet/blob/master/Incredible_MahlerNet.ipynb\" target=\"_parent\"><img src=\"https://colab.research.google.com/assets/colab-badge.svg\" alt=\"Open In Colab\"/></a>"
      ]
    },
    {
      "cell_type": "code",
      "metadata": {
        "id": "NPSZI8F8sxoH",
        "colab_type": "code",
        "colab": {}
      },
      "source": [
        "%tensorflow_version 1.x\n",
        "!pip install numpy==1.16.2\n",
        "!pip install mido==1.2.8 \n",
        "!pip install matplotlib==2.1.0"
      ],
      "execution_count": null,
      "outputs": []
    },
    {
      "cell_type": "code",
      "metadata": {
        "id": "QbDunAgXt0xy",
        "colab_type": "code",
        "colab": {}
      },
      "source": [
        "!git clone https://github.com/asigalov61/MahlerNet"
      ],
      "execution_count": null,
      "outputs": []
    },
    {
      "cell_type": "code",
      "metadata": {
        "id": "eotHmVwlRsiY",
        "colab_type": "code",
        "colab": {}
      },
      "source": [
        "%cd /content/MahlerNet/ROOT/input\n",
        "#@title (Best Choice/Works best stand-alone) Alex Piano Only Drafts Original 1500 MIDIs \n",
        "!wget 'https://github.com/asigalov61/AlexMIDIDataSet/raw/master/AlexMIDIDataSet-CC-BY-NC-SA.zip'\n",
        "!unzip -j 'AlexMIDIDataSet-CC-BY-NC-SA.zip'"
      ],
      "execution_count": null,
      "outputs": []
    },
    {
      "cell_type": "code",
      "metadata": {
        "id": "dGNP6hu-ttr4",
        "colab_type": "code",
        "colab": {}
      },
      "source": [
        "%cd /content/MahlerNet\n",
        "!python ProcessFolder.py ROOT -ds"
      ],
      "execution_count": null,
      "outputs": []
    },
    {
      "cell_type": "code",
      "metadata": {
        "id": "g9f_bJnKvpYp",
        "colab_type": "code",
        "colab": {
          "base_uri": "https://localhost:8080/",
          "height": 17
        },
        "outputId": "60e88146-a366-47ef-99a2-7f41a7e5d836"
      },
      "source": [
        "%cd /content/MahlerNet\n",
        "!python RunMahlerNet.py train NAME --root ROOT --config /content/MahlerNet/example_config.txt"
      ],
      "execution_count": null,
      "outputs": [
        {
          "output_type": "stream",
          "text": [
            ""
          ],
          "name": "stdout"
        }
      ]
    },
    {
      "cell_type": "code",
      "metadata": {
        "id": "3B6n4bAVPvs4",
        "colab_type": "code",
        "colab": {}
      },
      "source": [
        "!python display_stats.py l \"NAME\" '/content/MahlerNet/ROOT/runs/NAME'"
      ],
      "execution_count": null,
      "outputs": []
    },
    {
      "cell_type": "code",
      "metadata": {
        "id": "d3QHSek6zr_W",
        "colab_type": "code",
        "colab": {}
      },
      "source": [
        "!python RunMahlerNet.py generate NAME --root ROOT --type pred --use_teacher_forcing --length 80 --samples 2 --units - --use_start_ctx --model '/content/MahlerNet/ROOT/runs/NAME/trained_models/NAME_e60_s1740_tl2.17_vl3.68'"
      ],
      "execution_count": null,
      "outputs": []
    }
  ]
}