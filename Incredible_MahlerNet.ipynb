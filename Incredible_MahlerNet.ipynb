{
  "nbformat": 4,
  "nbformat_minor": 0,
  "metadata": {
    "colab": {
      "name": "Incredible-MahlerNet.ipynb",
      "provenance": [],
      "collapsed_sections": [],
      "authorship_tag": "ABX9TyOZ7Pj+ArTP95bO84uhqAhQ",
      "include_colab_link": true
    },
    "kernelspec": {
      "name": "python3",
      "display_name": "Python 3"
    },
    "accelerator": "GPU"
  },
  "cells": [
    {
      "cell_type": "markdown",
      "metadata": {
        "id": "view-in-github",
        "colab_type": "text"
      },
      "source": [
        "<a href=\"https://colab.research.google.com/github/asigalov61/Incredible-MahlerNet/blob/master/Incredible_MahlerNet.ipynb\" target=\"_parent\"><img src=\"https://colab.research.google.com/assets/colab-badge.svg\" alt=\"Open In Colab\"/></a>"
      ]
    },
    {
      "cell_type": "code",
      "metadata": {
        "id": "NPSZI8F8sxoH",
        "colab_type": "code",
        "colab": {}
      },
      "source": [
        "%tensorflow_version 1.x\n",
        "!pip install tensorflow-gpu==1.15.2 #==1.13.1\n",
        "!pip install tensorflow-estimator==1.15.1 #==1.13.0\n",
        "!pip install tensorboard\n",
        "!pip install tensorboardX\n",
        "#!pip install https://files.pythonhosted.org/packages/9d/6f/87e922b1dbfa9aa2e79bf150bf05d567eaa4f83bfd329c04834b26b0725e/tensorflow_gpu_estimator-2.3.0-py2.py3-none-any.whl\n",
        "import os\n",
        "os.environ[\"CUDA_VISIBLE_DEVICES\"] = \"0,3\"\n",
        "import tensorflow as tf\n",
        "import tensorflow_estimator\n",
        "import tensorboard\n",
        "import tensorboardX\n",
        "!v1.disable_v2_behavior()\n",
        "!pip install numpy==1.16.2\n",
        "!pip install mido==1.2.6\n",
        "!pip install matplotlib==3.0.3"
      ],
      "execution_count": null,
      "outputs": []
    },
    {
      "cell_type": "code",
      "metadata": {
        "id": "uXI7W0dO9FEG",
        "colab_type": "code",
        "colab": {}
      },
      "source": [
        "from tensorflow.python.client import device_lib\n",
        "device_lib.list_local_devices()"
      ],
      "execution_count": null,
      "outputs": []
    },
    {
      "cell_type": "code",
      "metadata": {
        "id": "QbDunAgXt0xy",
        "colab_type": "code",
        "colab": {}
      },
      "source": [
        "!git clone https://github.com/asigalov61/MahlerNet\n",
        "!mkdir '/content/MahlerNet/ROOT'\n",
        "!mkdir '/content/MahlerNet/ROOT/input'"
      ],
      "execution_count": null,
      "outputs": []
    },
    {
      "cell_type": "code",
      "metadata": {
        "id": "eotHmVwlRsiY",
        "colab_type": "code",
        "cellView": "form",
        "colab": {}
      },
      "source": [
        "#@title (Best Choice/Works best stand-alone) Alex Original DataSet ~450 MIDIs \n",
        "%cd /content/MahlerNet/ROOT/input\n",
        "!wget 'https://github.com/asigalov61/AlexMIDIDataSet/raw/master/AlexMIDIDataSet-CC-BY-NC-SA.zip'\n",
        "!unzip -j 'AlexMIDIDataSet-CC-BY-NC-SA.zip'"
      ],
      "execution_count": null,
      "outputs": []
    },
    {
      "cell_type": "code",
      "metadata": {
        "id": "5BVvAwsIA7hu",
        "colab_type": "code",
        "cellView": "form",
        "colab": {}
      },
      "source": [
        "#@title (Optional) Download and Unzip Google Magenta MAESTRO Piano MIDI Dataset (~1300 MIDIs)\n",
        "%cd /content/MahlerNet/ROOT/input\n",
        "!wget 'https://storage.googleapis.com/magentadata/datasets/maestro/v2.0.0/maestro-v2.0.0-midi.zip'\n",
        "!unzip -j maestro-v2.0.0-midi.zip"
      ],
      "execution_count": null,
      "outputs": []
    },
    {
      "cell_type": "code",
      "metadata": {
        "id": "bDVNMWFGlJJE",
        "colab_type": "code",
        "colab": {}
      },
      "source": [
        "%cd /content/MahlerNet/ROOT/input\n",
        "!unzip -j /content/MahlerNet/ROOT/input/MuseData.zip"
      ],
      "execution_count": null,
      "outputs": []
    },
    {
      "cell_type": "code",
      "metadata": {
        "id": "dGNP6hu-ttr4",
        "colab_type": "code",
        "colab": {}
      },
      "source": [
        "%cd /content/MahlerNet\n",
        "!python ProcessFolder.py ROOT -ds"
      ],
      "execution_count": null,
      "outputs": []
    },
    {
      "cell_type": "code",
      "metadata": {
        "id": "wOudBw9EJFIh",
        "colab_type": "code",
        "colab": {}
      },
      "source": [
        "!nvidia-smi\n",
        "%cd /content/MahlerNet\n",
        "!python RunMahlerNet.py train NAME4 --root ROOT --config '/content/MahlerNet/example_config.txt'"
      ],
      "execution_count": null,
      "outputs": []
    },
    {
      "cell_type": "code",
      "metadata": {
        "id": "g9f_bJnKvpYp",
        "colab_type": "code",
        "colab": {}
      },
      "source": [
        "%cd /content/MahlerNet\n",
        "!python RunMahlerNet.py train NAME --root ROOT --config '/content/MahlerNet/example_config.txt' -o -m '/content/MahlerNet/ROOT/runs/NAME6/trained_models/NAME6_e19_s4370_tl14.61_vl13.46'"
      ],
      "execution_count": null,
      "outputs": []
    },
    {
      "cell_type": "code",
      "metadata": {
        "id": "d3QHSek6zr_W",
        "colab_type": "code",
        "colab": {}
      },
      "source": [
        "!python RunMahlerNet.py generate NAME1 --root ROOT --type pred --use_teacher_forcing --length 80 --samples 2 --units - -F -e --use_start_ctx --model '/content/MahlerNet/ROOT/runs/NAME3/trained_models/NAME3_e27_s3132_tl13.62_vl13.45'"
      ],
      "execution_count": null,
      "outputs": []
    }
  ]
}